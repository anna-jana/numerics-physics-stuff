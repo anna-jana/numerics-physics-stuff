{
 "cells": [
  {
   "cell_type": "markdown",
   "metadata": {},
   "source": [
    "# Michaels Menten Kinetik"
   ]
  },
  {
   "cell_type": "markdown",
   "metadata": {},
   "source": [
    "$$\n",
    "\\frac{d[P]}{dt} = k_{cat}[ES]\n",
    "$$\n",
    "$$\n",
    "\\frac{d[S]}{dt} = k_r[ES] - k_v[E][S]\n",
    "$$\n",
    "$$\n",
    "\\frac{d[E]}{dt} = -k_v[E][S] + k_r[ES] + k_{cat}[ES]\n",
    "$$\n",
    "$$\n",
    "\\frac{d[ES]}{dt} = k_v[E][S] - k_r[ES] - k_{cat}[ES]\n",
    "$$"
   ]
  },
  {
   "cell_type": "code",
   "execution_count": 9,
   "metadata": {
    "collapsed": false
   },
   "outputs": [],
   "source": [
    "import numpy as np\n",
    "import scipy.integrate as solver\n",
    "\n",
    "import matplotlib.pyplot as plt\n",
    "import matplotlib\n",
    "%matplotlib inline\n",
    "matplotlib.rcParams['figure.figsize'] = (10.0, 5.0)\n",
    "\n",
    "import ipywidgets as inter"
   ]
  },
  {
   "cell_type": "code",
   "execution_count": 15,
   "metadata": {
    "collapsed": false
   },
   "outputs": [],
   "source": [
    "# k_r schnell: komplex zerfaellt langsamer als es sich bildet\n",
    "# k_v schnell: komplex bildet sich schneller als es zerfaellt\n",
    "# k_cat:       produkte reaktion ist langsam\n",
    "# P0:          keine produkte\n",
    "# S0:          viel edukte\n",
    "# E0:          ein bisschen enzym\n",
    "# ES0:         noch keine komplexe\n",
    "T = 8.0\n",
    "steps = 1000\n",
    "ts = np.linspace(0, T, steps)"
   ]
  },
  {
   "cell_type": "code",
   "execution_count": 16,
   "metadata": {
    "collapsed": false
   },
   "outputs": [],
   "source": [
    "def display(k_r, k_v, k_cat, P0, S0, E0, ES0):\n",
    "    def rhs(y, t):\n",
    "        P = y[0]\n",
    "        S = y[1]\n",
    "        E = y[2]\n",
    "        ES = y[3]\n",
    "        return np.array([\n",
    "            k_cat*ES, \n",
    "            k_r*ES - k_v*E*S, \n",
    "            -k_v*E*S + k_r*ES + k_cat*ES, \n",
    "            k_v*E*S - k_r*ES - k_cat*ES])\n",
    "    y0 = np.array([P0, S0, E0, ES0])\n",
    "    ys = solver.odeint(rhs, y0, ts)\n",
    "    Ps = ys[:, 0]\n",
    "    Ss = ys[:, 1]\n",
    "    Es = ys[:, 2]\n",
    "    ESs = ys[:, 3]\n",
    "    plt.plot(ts, Ps, label=\"[P]\")\n",
    "    plt.plot(ts, Ss, label=\"[S]\")\n",
    "    plt.plot(ts, Es, label=\"[E]\")\n",
    "    plt.plot(ts, ESs, label=\"[ES]\")\n",
    "    plt.legend()\n",
    "    plt.xlabel(\"t/s\")\n",
    "    plt.ylabel(\"c/mol\")\n",
    "    plt.show()"
   ]
  },
  {
   "cell_type": "code",
   "execution_count": 17,
   "metadata": {
    "collapsed": false
   },
   "outputs": [
    {
     "data": {
      "image/png": "[encoded data removed]",
      "text/plain": [
       "<matplotlib.figure.Figure at 0x7ff9d2d999d0>"
      ]
     },
     "metadata": {},
     "output_type": "display_data"
    }
   ],
   "source": [
    "const_range = (1.0, 10.0, 0.1)\n",
    "init_range = (0.0, 100.0, 1.0)\n",
    "inter.interact(display, k_r=const_range, k_v=const_range, k_cat=const_range, \n",
    "                        P0=init_range, S0=init_range, E0=init_range, ES0=init_range)"
   ]
  },
  {
   "cell_type": "code",
   "execution_count": null,
   "metadata": {
    "collapsed": true
   },
   "outputs": [],
   "source": []
  }
 ],
 "metadata": {
  "kernelspec": {
   "display_name": "Python 2",
   "language": "python",
   "name": "python2"
  },
  "language_info": {
   "codemirror_mode": {
    "name": "ipython",
    "version": 2
   },
   "file_extension": ".py",
   "mimetype": "text/x-python",
   "name": "python",
   "nbconvert_exporter": "python",
   "pygments_lexer": "ipython2",
   "version": "2.7.11+"
  },
  "widgets": {
   "state": {
    "051cad6bc29a4ffba5ae59c79e4a2ea2": {
     "views": []
    },
    "0a658d7c55a6448da14c6ad982556e1f": {
     "views": []
    },
    "0aff07330f0143bca5303f871e7d7e16": {
     "views": []
    },
    "0bd92319517246f293e093b8aec5e3b8": {
     "views": []
    },
    "114a29800c4e48a0a9087e618fd8a759": {
     "views": []
    },
    "119cf60cc5ca47efae3945533649e661": {
     "views": []
    },
    "119de4818af249858d6b9e45b24c5fa4": {
     "views": []
    },
    "12d17efa75774c64ab0b3a9d7a73f59b": {
     "views": []
    },
    "16894135e8644ed2bea3bc3a3b03e960": {
     "views": []
    },
    "36ed3ae157254182b73dc0f22185ee8b": {
     "views": []
    },
    "37bc72e6fa884e3a96f76a2cd05116af": {
     "views": []
    },
    "37f39712254544079d912744910e1e06": {
     "views": []
    },
    "3b26117ca02d4c6f812f330114de66c8": {
     "views": []
    },
    "42e938dc0e184e279d61561d2209d956": {
     "views": []
    },
    "478cee250aae4d64b607765f815e2a7a": {
     "views": []
    },
    "496a44128e9544dbb3264050c44a6abb": {
     "views": []
    },
    "4b0d3066d5954ea999584ea7a575495d": {
     "views": []
    },
    "4cad1c4a12e94325a5c0d9f2bf067df4": {
     "views": []
    },
    "4d33fd216e7641e7b5f52726a8b08ecd": {
     "views": []
    },
    "4f50abb57be046b9b01b00760496251b": {
     "views": []
    },
    "5a1c48bee8814d87b7762072b4555797": {
     "views": []
    },
    "62366870a54f4b949653cf0d68345c34": {
     "views": []
    },
    "6f86d573cbf94fd0907cbae58eaa4ff7": {
     "views": []
    },
    "77398272960d4b188890aa4e526b8653": {
     "views": []
    },
    "774e2cd37ddb4cc599f32600ff3d80b7": {
     "views": []
    },
    "7b28fd3aca6745099a98c81a8897d16b": {
     "views": []
    },
    "7cb9ef07d3bb4982928ae3614db267a1": {
     "views": []
    },
    "7e538aa1f3494527ac0dc4239c811843": {
     "views": []
    },
    "967c3599a1b348aa939d50a43f63fe34": {
     "views": []
    },
    "9b741c9da38c4365baa383630e8d38d9": {
     "views": []
    },
    "a427e6fe2c9e4a108c52a069ae6fb96b": {
     "views": []
    },
    "a4f7867734f440659bd20a2491c576eb": {
     "views": []
    },
    "a820c4758a824ce091aec5138f4f4eb2": {
     "views": []
    },
    "afdbe7725b444ce0b2f78c8b7f53ff30": {
     "views": []
    },
    "b6696788d5b5441585c0e2b8508fe05b": {
     "views": []
    },
    "b95d3f33319d42fe9c150db9b2082e2b": {
     "views": []
    },
    "bb1c1dcb8db94c8fa2bb8df07fb0529c": {
     "views": []
    },
    "c54cda66b15f4f708d997aaba3dd5bfa": {
     "views": []
    },
    "c805e8a86c554f84b941aaba14b59100": {
     "views": []
    },
    "ca6cf4b5b75d493f9b61c5429f1427d9": {
     "views": []
    },
    "cbb644a6353e486fa94e3d2950312da5": {
     "views": []
    },
    "cc5d8f3ec9714d6099f04ac33777b492": {
     "views": []
    },
    "d0f527cabdf547429fd448ce2193b9c7": {
     "views": [
      {
       "cell_index": 5
      }
     ]
    },
    "d138378891da4cf1862cb4b27d811125": {
     "views": []
    },
    "d2a3fc9d686a44d599804d81c8bd99ef": {
     "views": []
    },
    "e870b6f6074d476891bddeeeb47e3f46": {
     "views": []
    },
    "ea00f6209cb54f10b4f7bbe89dedf39f": {
     "views": []
    },
    "ea9254e613ce4c14a27c7d3fa76045a1": {
     "views": []
    },
    "f178850f4f234991b268d730de46f475": {
     "views": []
    },
    "f737a0ae9a344ced91372b474c040ce1": {
     "views": []
    }
   },
   "version": "1.1.1"
  }
 },
 "nbformat": 4,
 "nbformat_minor": 0
}
