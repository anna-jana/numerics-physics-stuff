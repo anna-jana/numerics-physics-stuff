{
 "cells": [
  {
   "cell_type": "code",
   "execution_count": 1,
   "metadata": {
    "collapsed": false
   },
   "outputs": [],
   "source": [
    "using PyPlot"
   ]
  },
  {
   "cell_type": "code",
   "execution_count": 2,
   "metadata": {
    "collapsed": false
   },
   "outputs": [],
   "source": [
    "\"\"\"\n",
    "An object witch has gravity.\n",
    "This is either a MassPoint or a BarnesHutTree.\n",
    "\"\"\"\n",
    "abstract Object"
   ]
  },
  {
   "cell_type": "code",
   "execution_count": 3,
   "metadata": {
    "collapsed": false
   },
   "outputs": [],
   "source": [
    "\"\"\"\n",
    "A single point with a mass and position.\n",
    "It dosen't store it's velocity, because we use verlet integration.\n",
    "\"\"\"\n",
    "immutable MassPoint <: Object\n",
    "    mass::Float64\n",
    "    position::Vector{Float64}\n",
    "end"
   ]
  },
  {
   "cell_type": "code",
   "execution_count": 4,
   "metadata": {
    "collapsed": false
   },
   "outputs": [],
   "source": [
    "\"\"\"\n",
    "A bounding box in 3D\n",
    "\"\"\"\n",
    "immutable SpaceBox\n",
    "    lower::Vector{Float64}\n",
    "    upper::Vector{Float64}\n",
    "end"
   ]
  },
  {
   "cell_type": "code",
   "execution_count": 5,
   "metadata": {
    "collapsed": false
   },
   "outputs": [
    {
     "data": {
      "text/plain": [
       "bounding_box (generic function with 1 method)"
      ]
     },
     "execution_count": 5,
     "metadata": {},
     "output_type": "execute_result"
    }
   ],
   "source": [
    "\"\"\"\n",
    "Find the bounding box for a set of mass points.\n",
    "Returns a SpaceBox\n",
    "\"\"\"\n",
    "function bounding_box(mass_points::Vector{MassPoint})\n",
    "    l = Array(Float64, 3)\n",
    "    u = Array(Float64, 3)\n",
    "    for i in 1:3\n",
    "        xs = map(p -> p.position[i], mass_points) # TODO: optimize!\n",
    "        l[i] = minimum(xs)\n",
    "        u[i] = maximum(xs)\n",
    "    end\n",
    "    return SpaceBox(l, u)\n",
    "end"
   ]
  },
  {
   "cell_type": "code",
   "execution_count": 6,
   "metadata": {
    "collapsed": false
   },
   "outputs": [
    {
     "data": {
      "text/plain": [
       "split_box (generic function with 1 method)"
      ]
     },
     "execution_count": 6,
     "metadata": {},
     "output_type": "execute_result"
    }
   ],
   "source": [
    "\"\"\"\n",
    "Split the box on each dimension in two parts (lower and upper).\n",
    "Returns a 3D array with all sub boxes.\n",
    "\"\"\"\n",
    "function split_box(box::SpaceBox) # TODO: test!\n",
    "    half_spanning = (box.upper - box.lower) ./ 2.0\n",
    "    boxes = Array(SpaceBox, 2, 2, 2)\n",
    "    for i in 1:2, j in 1:2, k in 1:2 # iterate over all sub boxes\n",
    "        low = Array(Float64, 3)\n",
    "        up = Array(Float64, 3)\n",
    "        index = [i, j, k] # index into the box array\n",
    "        for l in 1:3 # iterate over all 3 dimensions\n",
    "            low[l] = box.lower[l] + (index[l] - 1)*half_spanning[l]\n",
    "            up[l] = low[l] + half_spanning[l]\n",
    "        end\n",
    "        boxes[i, j, k] = SpaceBox(low, up)\n",
    "    end\n",
    "    return boxes\n",
    "end"
   ]
  },
  {
   "cell_type": "code",
   "execution_count": 7,
   "metadata": {
    "collapsed": false
   },
   "outputs": [],
   "source": [
    "\"\"\"\n",
    "An octtree with masses and positions of all point sets. (Barnes Hut Tree)\n",
    "\"\"\"\n",
    "immutable BarnesHutTree <: Object\n",
    "    box::SpaceBox\n",
    "    sub_tries::Array{Nullable{Object}, 3}\n",
    "    total_mass::Float64\n",
    "    mass_center_position::Vector{Float64}\n",
    "end"
   ]
  },
  {
   "cell_type": "code",
   "execution_count": 8,
   "metadata": {
    "collapsed": false
   },
   "outputs": [
    {
     "data": {
      "text/plain": [
       "make_tree (generic function with 1 method)"
      ]
     },
     "execution_count": 8,
     "metadata": {},
     "output_type": "execute_result"
    }
   ],
   "source": [
    "\"\"\"\n",
    "Creates an barnes hut tree from a given list of mass points\n",
    "\"\"\"\n",
    "function make_tree(mass_points::Vector{MassPoint})\n",
    "    return make_tree(mass_points, bounding_box(mass_points))\n",
    "end"
   ]
  },
  {
   "cell_type": "code",
   "execution_count": 9,
   "metadata": {
    "collapsed": false
   },
   "outputs": [
    {
     "data": {
      "text/plain": [
       "make_tree (generic function with 2 methods)"
      ]
     },
     "execution_count": 9,
     "metadata": {},
     "output_type": "execute_result"
    }
   ],
   "source": [
    "function make_tree(mass_points::Vector{MassPoint}, box::SpaceBox) # -> Nullable{Object}\n",
    "    if size(mass_points, 1) == 0\n",
    "        return Nullable{BarnesHutTree}()\n",
    "    elseif size(mass_points, 1) == 1\n",
    "        return Nullable(mass_points[1])\n",
    "    else\n",
    "        center = (box.upper + box.lower)/2\n",
    "        sub_boxes = split_box(box)\n",
    "        sub_point_boxes = Array(Vector{MassPoint}, 2, 2, 2)\n",
    "        for i in eachindex(sub_point_boxes); sub_point_boxes[i] = MassPoint[] end\n",
    "        total_mass = 0.0\n",
    "        mass_center_position = zeros(3)\n",
    "        for p in mass_points\n",
    "            i = p.position[1] < center[1] ? 1 : 2\n",
    "            j = p.position[2] < center[2] ? 1 : 2\n",
    "            k = p.position[3] < center[3] ? 1 : 2\n",
    "            push!(sub_point_boxes[i, j, k], p)\n",
    "\n",
    "            total_mass += p.mass\n",
    "            mass_center_position += p.position*p.mass\n",
    "        end\n",
    "        mass_center_position = mass_center_position / size(mass_points, 1) / total_mass\n",
    "        sub_tries = map(make_tree, sub_point_boxes, sub_boxes)\n",
    "        tree = BarnesHutTree(box, sub_tries, total_mass, mass_center_position)\n",
    "        return Nullable(tree)\n",
    "    end\n",
    "end"
   ]
  },
  {
   "cell_type": "code",
   "execution_count": 10,
   "metadata": {
    "collapsed": false
   },
   "outputs": [
    {
     "data": {
      "text/latex": [
       "Constant of gravity in SI units (m\\^{}3/s\\^{}2/kg)\n"
      ],
      "text/markdown": [
       "Constant of gravity in SI units (m^3/s^2/kg)\n"
      ],
      "text/plain": [
       "Constant of gravity in SI units (m^3/s^2/kg)\n"
      ]
     },
     "execution_count": 10,
     "metadata": {},
     "output_type": "execute_result"
    }
   ],
   "source": [
    "\"\"\"\n",
    "Constant of gravity in SI units (m^3/s^2/kg)\n",
    "\"\"\"\n",
    "const G = 6.67e-11"
   ]
  },
  {
   "cell_type": "code",
   "execution_count": 11,
   "metadata": {
    "collapsed": false
   },
   "outputs": [
    {
     "data": {
      "text/plain": [
       "accel_on (generic function with 1 method)"
      ]
     },
     "execution_count": 11,
     "metadata": {},
     "output_type": "execute_result"
    }
   ],
   "source": [
    "\"\"\"\n",
    "Acceleration of the given masspoint `on` according to the gravitational force of `from`.\n",
    "\"\"\"\n",
    "function accel_on(on::MassPoint, from::MassPoint)\n",
    "    between = from.position - on.position\n",
    "    d = norm(between)\n",
    "    if d == 0\n",
    "        return zeros(3)\n",
    "    else\n",
    "        return G*from.mass/d^3*between\n",
    "    end\n",
    "end"
   ]
  },
  {
   "cell_type": "code",
   "execution_count": 12,
   "metadata": {
    "collapsed": false
   },
   "outputs": [
    {
     "data": {
      "text/plain": [
       "accel_on (generic function with 2 methods)"
      ]
     },
     "execution_count": 12,
     "metadata": {},
     "output_type": "execute_result"
    }
   ],
   "source": [
    "function accel_on(on::MassPoint, from::BarnesHutTree)\n",
    "    r = norm(from.box.lower - from.box.upper)\n",
    "    d = norm(on.position - from.mass_center_position)\n",
    "    if d != 0 && r/d < 1\n",
    "        # the object is far away -> use the tree itself\n",
    "        eq_mass_point = MassPoint(from.total_mass, from.mass_center_position)\n",
    "        return accel_on(on, eq_mass_point)\n",
    "    else\n",
    "        # it is close -> use sub tires\n",
    "        total_accel = zeros(3)\n",
    "        for sub_tree in from.sub_tries\n",
    "            if !isnull(sub_tree)\n",
    "                total_accel += accel_on(on, get(sub_tree))\n",
    "            end\n",
    "        end\n",
    "        return total_accel\n",
    "    end\n",
    "end"
   ]
  },
  {
   "cell_type": "code",
   "execution_count": 13,
   "metadata": {
    "collapsed": false
   },
   "outputs": [
    {
     "data": {
      "text/plain": [
       "simulate (generic function with 1 method)"
      ]
     },
     "execution_count": 13,
     "metadata": {},
     "output_type": "execute_result"
    }
   ],
   "source": [
    "\"\"\"\n",
    "Returns a matrix of the movement of all `mass_points` in a time `T`, every `h` seconds.\n",
    "The columns are the steps in time, The rows are the induvidual particles.\n",
    "\"\"\"\n",
    "function simulate(mass_points::Vector{MassPoint}, vs::Vector{Vector{Float64}}, time::Float64, h::Float64)\n",
    "    @assert(size(mass_points, 1) >= 2)\n",
    "    steps = Int64(floor(time/h))\n",
    "    xs = Array(MassPoint, size(mass_points, 1), steps)\n",
    "    @inbounds xs[:, 1] = mass_points\n",
    "    bht = get(make_tree(mass_points))\n",
    "    # xs[:, 2] = [MassPoint(mp.mass, mp.position + h*v + 0.5*accel_on(mp, bht)) for (mp, v) in zip(mass_points, vs)]\n",
    "    for i in 1:size(mass_points, 1)\n",
    "        @inbounds xs[i, 2] = MassPoint(xs[i, 1].mass,  xs[i, 1].position + h*vs[i] + 0.5*accel_on(xs[i, 1], bht))\n",
    "    end\n",
    "    for i in 3:steps\n",
    "        @inbounds bht = get(make_tree(xs[:, i - 1]))\n",
    "        #xs[i, :] = [MassPoint(mp1.mass, 2*mp1.position - mp2.position + accel_on(mp1, bht)*h^2)\n",
    "        #           for (mp1, mp2) in zip(xs[i - 1,:], xs[i - 2,:])]\n",
    "        for j in 1:size(mass_points, 1)\n",
    "            @inbounds xs[j, i] = MassPoint(xs[j, i - 1].mass, \n",
    "                2*xs[j, i - 1].position - xs[j, i - 2].position + accel_on(xs[j, i - 1], bht)*h^2)\n",
    "        end\n",
    "    end\n",
    "    return xs\n",
    "end"
   ]
  },
  {
   "cell_type": "code",
   "execution_count": 14,
   "metadata": {
    "collapsed": false
   },
   "outputs": [],
   "source": [
    "n = 100;\n",
    "r = 1e4\n",
    "v = 1e2\n",
    "T = 1e10;\n",
    "steps = 500\n",
    "h = T / steps;\n",
    "axis = [0., 0., 1.]\n",
    "function rand_point()\n",
    "    a = rand()*2*pi\n",
    "    b = rand()*2*pi\n",
    "    return [r*sin(a)*cos(b), r*sin(a)*sin(b), r*cos(a)]\n",
    "end\n",
    "function rand_velocity()\n",
    "    a = rand()*2*pi\n",
    "    return [0., v*sin(a), v*cos(a)]\n",
    "end\n",
    "ps = [MassPoint(rand()*1e6, rand_point()) for i in 1:n];\n",
    "vs = Vector{Float64}[rand_velocity() for i in 1:n];\n",
    "push!(ps, MassPoint(1e15, zeros(3)))\n",
    "push!(vs, zeros(3));"
   ]
  },
  {
   "cell_type": "code",
   "execution_count": 15,
   "metadata": {
    "collapsed": false
   },
   "outputs": [
    {
     "data": {
      "text/plain": [
       "plot_stuff (generic function with 1 method)"
      ]
     },
     "execution_count": 15,
     "metadata": {},
     "output_type": "execute_result"
    }
   ],
   "source": [
    "function plot_stuff(res)\n",
    "    plot_points = 100\n",
    "    step = div(size(res, 2), plot_points)\n",
    "    for i in 1:size(res, 1)\n",
    "        x = [res[i, j].position[1] for j in 1:step:size(res, 2)]\n",
    "        y = [res[i, j].position[2] for j in 1:step:size(res, 2)]\n",
    "        z = [res[i, j].position[3] for j in 1:step:size(res, 2)]\n",
    "        plot3D(x, y, z)\n",
    "    end\n",
    "    xlabel(\"x\")\n",
    "    ylabel(\"y\")\n",
    "    zlabel(\"z\")\n",
    "    show()\n",
    "end"
   ]
  },
  {
   "cell_type": "code",
   "execution_count": 16,
   "metadata": {
    "collapsed": false
   },
   "outputs": [
    {
     "data": {
      "text/plain": [
       "10000"
      ]
     },
     "execution_count": 16,
     "metadata": {},
     "output_type": "execute_result"
    }
   ],
   "source": [
    "earth_pos = [-1.012268338703987E+08, -1.111875886682171E+08, -1.939665193599463E+04] * 1000\n",
    "earth_vel = [2.152795356301499E+01, -2.018669837471565E+01,  1.000460883457954E-03] * 1000\n",
    "mars_pos = [-1.345930796446981E+08, -1.863155816469951E+08, -6.188645620241463E+05] * 1000\n",
    "mars_vel = [2.053477661794103E+01, -1.212126142710785E+01, -7.582624591585443E-01] * 1000\n",
    "sun_pos = [5.626768185365887E+05,  3.432765388815567E+05, -2.436414149240617E+04] * 1000\n",
    "sun_vel = [-7.612831360793502E-04,  1.210783982822092E-02, -1.274982680357986E-06] * 1000\n",
    "masses = [5.97237e24, 6.4171e23, 1.988544e30]\n",
    "solar_vs = Vector{Float64}[earth_vel, mars_vel, sun_vel]\n",
    "solar_ps = [MassPoint(masses[1], earth_pos), MassPoint(masses[2], mars_pos), MassPoint(masses[3], sun_pos)]\n",
    "time = 2*365*24*60*60.\n",
    "steps = 10000"
   ]
  },
  {
   "cell_type": "code",
   "execution_count": 17,
   "metadata": {
    "collapsed": false
   },
   "outputs": [],
   "source": [
    "res = simulate(solar_ps, solar_vs, time, time/steps);"
   ]
  },
  {
   "cell_type": "code",
   "execution_count": 18,
   "metadata": {
    "collapsed": false
   },
   "outputs": [
    {
     "data": {
      "image/png": "[encoded data removed]",
      "text/plain": [
       "PyPlot.Figure(PyObject <matplotlib.figure.Figure object at 0x7feb16d310d0>)"
      ]
     },
     "metadata": {},
     "output_type": "display_data"
    }
   ],
   "source": [
    "plot_stuff(res)"
   ]
  },
  {
   "cell_type": "code",
   "execution_count": 19,
   "metadata": {
    "collapsed": false
   },
   "outputs": [
    {
     "data": {
      "text/plain": [
       "3-element Array{Array{Float64,1},1}:\n",
       " [0.003921522387404809,0.0042968128971632635,-1.9142282383509725e-7]  \n",
       " [0.0014647077163901477,0.002022877102448547,6.443034686696646e-6]    \n",
       " [-1.2250521109691099e-8,-1.35577874605959e-8,-1.5042724015219606e-12]"
      ]
     },
     "execution_count": 19,
     "metadata": {},
     "output_type": "execute_result"
    }
   ],
   "source": [
    "bht = make_tree(solar_ps);\n",
    "[accel_on(p, get(bht)) for p in solar_ps]"
   ]
  },
  {
   "cell_type": "code",
   "execution_count": null,
   "metadata": {
    "collapsed": true
   },
   "outputs": [],
   "source": []
  }
 ],
 "metadata": {
  "kernelspec": {
   "display_name": "Julia 0.4.5",
   "language": "julia",
   "name": "julia-0.4"
  },
  "language_info": {
   "file_extension": ".jl",
   "mimetype": "application/julia",
   "name": "julia",
   "version": "0.4.5"
  },
  "widgets": {
   "state": {},
   "version": "1.1.1"
  }
 },
 "nbformat": 4,
 "nbformat_minor": 0
}
