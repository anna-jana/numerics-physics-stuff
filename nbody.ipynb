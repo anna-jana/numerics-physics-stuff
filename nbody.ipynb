{
 "cells": [
  {
   "cell_type": "code",
   "execution_count": null,
   "metadata": {
    "collapsed": true
   },
   "outputs": [],
   "source": [
    "using PyPlot"
   ]
  },
  {
   "cell_type": "code",
   "execution_count": 1,
   "metadata": {
    "collapsed": true
   },
   "outputs": [],
   "source": [
    "\"\"\"\n",
    "An object witch has gravity.\n",
    "This is either a MassPoint or a BarnesHutTree.\n",
    "\"\"\"\n",
    "abstract Object{T <: Real}"
   ]
  },
  {
   "cell_type": "code",
   "execution_count": 2,
   "metadata": {
    "collapsed": true
   },
   "outputs": [],
   "source": [
    "\"\"\"\n",
    "A single point with a mass and position.\n",
    "It dosen't store it's velocity, because we use verlet integration.\n",
    "\"\"\"\n",
    "immutable MassPoint{T <: Real} <: Object{T}\n",
    "    mass::T\n",
    "    position::Vector{T}\n",
    "end"
   ]
  },
  {
   "cell_type": "code",
   "execution_count": 3,
   "metadata": {
    "collapsed": true
   },
   "outputs": [],
   "source": [
    "\"\"\"\n",
    "A bounding box in 3D\n",
    "\"\"\"\n",
    "immutable SpaceBox{T <: Real}\n",
    "    lower::Vector{T}\n",
    "    upper::Vector{T}\n",
    "end"
   ]
  },
  {
   "cell_type": "code",
   "execution_count": 4,
   "metadata": {
    "collapsed": false
   },
   "outputs": [
    {
     "data": {
      "text/plain": [
       "bounding_box (generic function with 1 method)"
      ]
     },
     "execution_count": 4,
     "metadata": {},
     "output_type": "execute_result"
    }
   ],
   "source": [
    "\"\"\"\n",
    "Find the bounding box for a set of mass points.\n",
    "Returns a SpaceBox\n",
    "\"\"\"\n",
    "function bounding_box{T <: Real}(mass_points::Vector{MassPoint{T}})\n",
    "    l = Array(T, 3)\n",
    "    u = Array(T, 3)\n",
    "    for i in 1:3\n",
    "        xs = map(p -> p.position[i], mass_points) # TODO: optimize!\n",
    "        l[i] = minimum(xs)\n",
    "        u[i] = maximum(xs)\n",
    "    end\n",
    "    return SpaceBox{T}(l, u)\n",
    "end"
   ]
  },
  {
   "cell_type": "code",
   "execution_count": 5,
   "metadata": {
    "collapsed": false
   },
   "outputs": [
    {
     "data": {
      "text/plain": [
       "split_box (generic function with 1 method)"
      ]
     },
     "execution_count": 5,
     "metadata": {},
     "output_type": "execute_result"
    }
   ],
   "source": [
    "\"\"\"\n",
    "Split the box on each dimension in two parts (lower and upper).\n",
    "Returns a 3D array with all sub boxes.\n",
    "\"\"\"\n",
    "function split_box{T <: Real}(box::SpaceBox{T}) # TODO: test!\n",
    "    half_spanning = (box.upper - box.lower) ./ 2.0\n",
    "    boxes = Array(SpaceBox{T}, 2, 2, 2)\n",
    "    for i in 1:2, j in 1:2, k in 1:2 # iterate over all sub boxes\n",
    "        low = Array(T, 3)\n",
    "        up = Array(T, 3)\n",
    "        index = [i, j, k] # index into the box array\n",
    "        for l in 1:3 # iterate over all 3 dimensions\n",
    "            low[l] = box.lower[l] + (index[l] - 1)*half_spanning[l]\n",
    "            up[l] = low[l] + half_spanning[l]\n",
    "        end\n",
    "        boxes[i, j, k] = SpaceBox(low, up)\n",
    "    end\n",
    "    return boxes\n",
    "end"
   ]
  },
  {
   "cell_type": "code",
   "execution_count": 6,
   "metadata": {
    "collapsed": true
   },
   "outputs": [],
   "source": [
    "\"\"\"\n",
    "An octtree with masses and positions of all point sets. (Barnes Hut Tree)\n",
    "\"\"\"\n",
    "immutable BarnesHutTree{T <: Real} <: Object{T}\n",
    "    box::SpaceBox{T}\n",
    "    sub_tries::Array{Nullable{Object{T}}, 3}\n",
    "    total_mass::T\n",
    "    mass_center_position::Vector{T}\n",
    "end"
   ]
  },
  {
   "cell_type": "code",
   "execution_count": 7,
   "metadata": {
    "collapsed": false
   },
   "outputs": [
    {
     "data": {
      "text/plain": [
       "make_tree (generic function with 1 method)"
      ]
     },
     "execution_count": 7,
     "metadata": {},
     "output_type": "execute_result"
    }
   ],
   "source": [
    "\"\"\"\n",
    "Creates an barnes hut tree from a given list of mass points\n",
    "\"\"\"\n",
    "function make_tree{T <: Real}(mass_points::Vector{MassPoint{T}})\n",
    "    return make_tree(mass_points, bounding_box(mass_points))\n",
    "end"
   ]
  },
  {
   "cell_type": "code",
   "execution_count": 8,
   "metadata": {
    "collapsed": false
   },
   "outputs": [
    {
     "data": {
      "text/plain": [
       "make_tree (generic function with 2 methods)"
      ]
     },
     "execution_count": 8,
     "metadata": {},
     "output_type": "execute_result"
    }
   ],
   "source": [
    "function make_tree{T <: Real}(mass_points::Vector{MassPoint{T}}, box::SpaceBox{T}) # -> Nullable{Object}\n",
    "    if size(mass_points, 1) == 0\n",
    "        return Nullable{BarnesHutTree{T}}()\n",
    "    elseif size(mass_points, 1) == 1\n",
    "        return Nullable(mass_points[1])\n",
    "    else\n",
    "        center = (box.upper + box.lower)/2\n",
    "        sub_boxes = split_box(box)\n",
    "        sub_point_boxes = Array(Vector{MassPoint{T}}, 2, 2, 2)\n",
    "        for i in eachindex(sub_point_boxes); sub_point_boxes[i] = MassPoint{T}[] end\n",
    "        total_mass = 0.0\n",
    "        mass_center_position = zeros(3)\n",
    "        for p in mass_points\n",
    "            i = p.position[1] < center[1] ? 1 : 2\n",
    "            j = p.position[2] < center[2] ? 1 : 2\n",
    "            k = p.position[3] < center[3] ? 1 : 2\n",
    "            push!(sub_point_boxes[i, j, k], p)\n",
    "\n",
    "            total_mass += p.mass\n",
    "            mass_center_position += p.position\n",
    "        end\n",
    "        mass_center_position /= size(mass_points, 1)\n",
    "        sub_tries = map(make_tree, sub_point_boxes, sub_boxes)\n",
    "        tree = BarnesHutTree{T}(box, sub_tries, total_mass, mass_center_position)\n",
    "        return Nullable(tree)\n",
    "    end\n",
    "end"
   ]
  },
  {
   "cell_type": "code",
   "execution_count": 9,
   "metadata": {
    "collapsed": false
   },
   "outputs": [
    {
     "data": {
      "text/plain": [
       "draw_tree (generic function with 1 method)"
      ]
     },
     "execution_count": 9,
     "metadata": {},
     "output_type": "execute_result"
    }
   ],
   "source": [
    "\"\"\"\n",
    "Draws an barnes hut tree using pyplot (has to be loaded) for debugging.\n",
    "\"\"\"\n",
    "function draw_tree(tree)\n",
    "    if !isnull(tree)\n",
    "        thing = get(tree)\n",
    "        if isa(thing, MassPoint)\n",
    "            # draw the point\n",
    "            scatter([thing.position[1]], [thing.position[2]], color=\"red\")\n",
    "        else\n",
    "            # draw center\n",
    "            scatter([thing.mass_center_position[1]], [thing.mass_center_position[2]], color=\"blue\")\n",
    "            # draw box\n",
    "            top = thing.box.upper[2]\n",
    "            botton = thing.box.lower[2]\n",
    "            left = thing.box.lower[1]\n",
    "            right = thing.box.upper[1]\n",
    "            plot([left, right, right, left, left], [top, top, botton, botton, top], color=\"black\")\n",
    "            map(draw_tree, thing.sub_tries)\n",
    "        end\n",
    "    end\n",
    "end"
   ]
  },
  {
   "cell_type": "code",
   "execution_count": 10,
   "metadata": {
    "collapsed": false
   },
   "outputs": [
    {
     "data": {
      "text/latex": [
       "Constant of gravity in SI units (m\\^{}3/s\\^{}2/kg)\n"
      ],
      "text/markdown": [
       "Constant of gravity in SI units (m^3/s^2/kg)\n"
      ],
      "text/plain": [
       "Constant of gravity in SI units (m^3/s^2/kg)\n"
      ]
     },
     "execution_count": 10,
     "metadata": {},
     "output_type": "execute_result"
    }
   ],
   "source": [
    "\"\"\"\n",
    "Constant of gravity in SI units (m^3/s^2/kg)\n",
    "\"\"\"\n",
    "const G = 6.67e-11"
   ]
  },
  {
   "cell_type": "code",
   "execution_count": 11,
   "metadata": {
    "collapsed": false
   },
   "outputs": [
    {
     "data": {
      "text/plain": [
       "accel_on (generic function with 1 method)"
      ]
     },
     "execution_count": 11,
     "metadata": {},
     "output_type": "execute_result"
    }
   ],
   "source": [
    "\"\"\"\n",
    "Acceleration of the given masspoint `on` according to the gravitational force of `from`.\n",
    "\"\"\"\n",
    "function accel_on{T <: Real}(on::MassPoint{T}, from::MassPoint{T})\n",
    "    between = from.position - on.position\n",
    "    d = norm(between)\n",
    "    if d == 0\n",
    "        return zeros(3)\n",
    "    else\n",
    "        return G*from.mass/d^3*between\n",
    "    end\n",
    "end"
   ]
  },
  {
   "cell_type": "code",
   "execution_count": 12,
   "metadata": {
    "collapsed": false
   },
   "outputs": [
    {
     "data": {
      "text/plain": [
       "accel_on (generic function with 2 methods)"
      ]
     },
     "execution_count": 12,
     "metadata": {},
     "output_type": "execute_result"
    }
   ],
   "source": [
    "function accel_on{T <: Real}(on::MassPoint{T}, from::BarnesHutTree{T})\n",
    "    r = norm(from.box.lower - from.box.upper)\n",
    "    d = norm(on.position - from.mass_center_position)\n",
    "    if d != 0 && r/d < 1\n",
    "        # the object is far away -> use the tree itself\n",
    "        eq_mass_point = MassPoint(from.total_mass, from.mass_center_position)\n",
    "        return accel_on(on, eq_mass_point)\n",
    "    else\n",
    "        # it is close -> use sub tires\n",
    "        total_force = zeros(3)\n",
    "        for sub_tree in from.sub_tries\n",
    "            if !isnull(sub_tree)\n",
    "                total_force += accel_on(on, get(sub_tree))\n",
    "            end\n",
    "        end\n",
    "        return total_force\n",
    "    end\n",
    "end"
   ]
  },
  {
   "cell_type": "code",
   "execution_count": 13,
   "metadata": {
    "collapsed": false
   },
   "outputs": [
    {
     "data": {
      "text/plain": [
       "simulate (generic function with 1 method)"
      ]
     },
     "execution_count": 13,
     "metadata": {},
     "output_type": "execute_result"
    }
   ],
   "source": [
    "\"\"\"\n",
    "Returns a matrix of the movement of all `mass_points` in a time `T`, every `h` seconds.\n",
    "The rows are the steps in time, The columns are the induvidual particles.\n",
    "\"\"\"\n",
    "function simulate{T <: Real}(mass_points::Vector{MassPoint{T}}, vs::Vector{Vector{T}}, time::T, h::T)\n",
    "    steps = Int64(floor(time/h))\n",
    "    xs = Array(MassPoint{T}, steps, size(mass_points, 1))\n",
    "    xs[1, :] = mass_points\n",
    "    bht = get(make_tree(mass_points))\n",
    "    xs[2, :] = [MassPoint(mp.mass, mp.position + h*v + 0.5*accel_on(mp, bht)) for (mp, v) in zip(mass_points, vs)]\n",
    "    for i in 3:steps\n",
    "        bht = get(make_tree(vec(xs[i-1,:])))\n",
    "        xs[i, :] = [MassPoint(mp1.mass, 2*mp1.position - mp2.position + accel_on(mp1, bht)*h^2)\n",
    "                   for (mp1, mp2) in zip(xs[i - 1,:], xs[i - 2,:])]\n",
    "    end\n",
    "    return xs\n",
    "end"
   ]
  },
  {
   "cell_type": "code",
   "execution_count": 14,
   "metadata": {
    "collapsed": false
   },
   "outputs": [
    {
     "data": {
      "text/plain": [
       "direct (generic function with 1 method)"
      ]
     },
     "execution_count": 14,
     "metadata": {},
     "output_type": "execute_result"
    }
   ],
   "source": [
    "\"\"\"\n",
    "Compute the acceleration of the mass point using a direct computation of the force from each object.\n",
    "Used for testing the barnes hut algorithm,\n",
    "\"\"\"\n",
    "function direct(p, ps)\n",
    "    accel = zeros(3)\n",
    "    for other in ps\n",
    "        between = other.position - p.position\n",
    "        d = norm(between)\n",
    "        if d != 0\n",
    "            accel += G*other.mass/d^2*between\n",
    "        end\n",
    "    end\n",
    "    return accel\n",
    "end"
   ]
  },
  {
   "cell_type": "code",
   "execution_count": 15,
   "metadata": {
    "collapsed": false
   },
   "outputs": [
    {
     "data": {
      "text/plain": [
       "direct_simulate (generic function with 1 method)"
      ]
     },
     "execution_count": 15,
     "metadata": {},
     "output_type": "execute_result"
    }
   ],
   "source": [
    "\"\"\"\n",
    "Like `simulate` but uses direct force computation.\n",
    "\"\"\"\n",
    "function direct_simulate{T <: Real}(mass_points::Vector{MassPoint{T}}, vs::Vector{Vector{T}}, time::T, h::T)\n",
    "    steps = Int64(floor(time/h))\n",
    "    xs = Array(MassPoint{T}, steps, size(mass_points, 1))\n",
    "    xs[1, :] = mass_points\n",
    "    xs[2, :] = [MassPoint(mp.mass, mp.position + h*v + 0.5*direct(mp, xs[1,:]))\n",
    "            for (mp, v) in zip(mass_points, vs)]\n",
    "    for i in 3:steps\n",
    "        xs[i, :] = [MassPoint(mp1.mass, 2*mp1.position - mp2.position + direct(mp1, xs[i - 1,:])*h^2)\n",
    "                   for (mp1, mp2) in zip(xs[i - 1,:], xs[i - 2,:])]\n",
    "    end\n",
    "    return xs\n",
    "end"
   ]
  },
  {
   "cell_type": "code",
   "execution_count": 16,
   "metadata": {
    "collapsed": false
   },
   "outputs": [
    {
     "data": {
      "text/plain": [
       "get_2d_position (generic function with 1 method)"
      ]
     },
     "execution_count": 16,
     "metadata": {},
     "output_type": "execute_result"
    }
   ],
   "source": [
    "\"\"\"\n",
    "Get an vector of the x and y coordinate of the mass point.\n",
    "Used for debugging.\n",
    "\"\"\"\n",
    "get_2d_position(p) = [p.position[1], p.position[2]]"
   ]
  },
  {
   "cell_type": "code",
   "execution_count": 17,
   "metadata": {
    "collapsed": false
   },
   "outputs": [
    {
     "data": {
      "text/plain": [
       "bh_error (generic function with 1 method)"
      ]
     },
     "execution_count": 17,
     "metadata": {},
     "output_type": "execute_result"
    }
   ],
   "source": [
    "\"\"\"\n",
    "Returns a mesure for the error interduced by the barnes hut method.\n",
    "\"\"\"\n",
    "bh_error(bh, rs) = norm(vcat(reshape(bh - res, prod(size(bh)))...))"
   ]
  },
  {
   "cell_type": "code",
   "execution_count": 18,
   "metadata": {
    "collapsed": false
   },
   "outputs": [],
   "source": [
    "n = 1000;\n",
    "ps = [MassPoint(rand(), rand(3)) for i in 1:n];\n",
    "vs = [rand(3) for i in 1:n]\n",
    "T = 10.0;\n",
    "h = 1.0;"
   ]
  },
  {
   "cell_type": "code",
   "execution_count": 19,
   "metadata": {
    "collapsed": false
   },
   "outputs": [
    {
     "data": {
      "text/plain": [
       "10x1000 Array{MassPoint{Float64},2}:\n",
       " MassPoint{Float64}(0.9467087074927412,[0.7352558785469654,0.6812941639841259,0.5256076334789148])  …  MassPoint{Float64}(0.6030425931382137,[0.43708406708029934,0.8013605482020916,0.37289620728477657])\n",
       " MassPoint{Float64}(0.9467087074927412,[0.8795773785472263,1.425777524977942,0.5828514993753955])      MassPoint{Float64}(0.6030425931382137,[1.1963398324125425,1.241602935825185,1.2484534863878847])   \n",
       " MassPoint{Float64}(0.9467087074927412,[1.023898894743002,2.1702608488253468,0.6400953828749769])      MassPoint{Float64}(0.6030425931382137,[1.9555955863875434,1.681845286365198,2.1240107415377625])   \n",
       " MassPoint{Float64}(0.9467087074927412,[1.1682204151693647,2.9147441622317865,0.6973392779519991])     MassPoint{Float64}(0.6030425931382137,[2.7148513302756734,2.1220876277852225,2.9995679829960338])  \n",
       " MassPoint{Float64}(0.9467087074927412,[1.3125419389072361,3.6592274717901123,0.75458317923041])       MassPoint{Float64}(0.6030425931382137,[3.4741070728627603,2.562329968430119,3.8751252172656554])   \n",
       " MassPoint{Float64}(0.9467087074927412,[1.4568634646760596,4.403710779823729,0.8118270838807399])   …  MassPoint{Float64}(0.6030425931382137,[4.233362813817346,3.002572308893626,4.750682448052935])     \n",
       " MassPoint{Float64}(0.9467087074927412,[1.601184991992837,5.148194086992579,0.8690709907239418])       MassPoint{Float64}(0.6030425931382137,[4.992618553558221,3.4428146491130063,5.626239676884749])    \n",
       " MassPoint{Float64}(0.9467087074927412,[1.7455065204747842,5.892677393558822,0.9263148991282074])      MassPoint{Float64}(0.6030425931382137,[5.751874292478899,3.883056989206561,6.5017969045021475])    \n",
       " MassPoint{Float64}(0.9467087074927412,[1.8898280498399525,6.637160699673429,0.9835588086780479])      MassPoint{Float64}(0.6030425931382137,[6.511130030786634,4.323299329255689,7.377354131314416])     \n",
       " MassPoint{Float64}(0.9467087074927412,[2.0341495798750073,7.3816440054450805,1.0408027190942206])     MassPoint{Float64}(0.6030425931382137,[7.2703857686169115,4.7635416693654475,8.252911357540132])   "
      ]
     },
     "execution_count": 19,
     "metadata": {},
     "output_type": "execute_result"
    }
   ],
   "source": [
    "simulate(ps, vs, T, h)"
   ]
  }
 ],
 "metadata": {
  "kernelspec": {
   "display_name": "Julia 0.4.5",
   "language": "julia",
   "name": "julia-0.4"
  },
  "language_info": {
   "file_extension": ".jl",
   "mimetype": "application/julia",
   "name": "julia",
   "version": "0.4.5"
  },
  "widgets": {
   "state": {},
   "version": "1.1.1"
  }
 },
 "nbformat": 4,
 "nbformat_minor": 0
}
