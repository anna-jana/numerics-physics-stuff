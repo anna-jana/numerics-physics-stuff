{
 "cells": [
  {
   "cell_type": "code",
   "execution_count": 1,
   "metadata": {
    "collapsed": true
   },
   "outputs": [],
   "source": [
    "push!(LOAD_PATH, \".\")\n",
    "using BarnesHut"
   ]
  },
  {
   "cell_type": "code",
   "execution_count": null,
   "metadata": {
    "collapsed": true
   },
   "outputs": [],
   "source": [
    "reload(\"BarnesHut\")"
   ]
  },
  {
   "cell_type": "code",
   "execution_count": 9,
   "metadata": {
    "collapsed": false
   },
   "outputs": [],
   "source": [
    "n = 1000;\n",
    "ps = [MassPoint(rand(), rand(3)) for i in 1:n];\n",
    "vs = [rand(3) for i in 1:n]\n",
    "T = 10.0;\n",
    "h = 1.0;"
   ]
  },
  {
   "cell_type": "code",
   "execution_count": 10,
   "metadata": {
    "collapsed": false
   },
   "outputs": [
    {
     "data": {
      "text/plain": [
       "10x1000 Array{BarnesHut.MassPoint{Float64},2}:\n",
       " BarnesHut.MassPoint{Float64}(0.15506384785822447,[0.5778968445395756,0.7292128965180391,0.600546950570578])  …  BarnesHut.MassPoint{Float64}(0.24766454150423733,[0.1909353224615391,0.4730314180683999,0.24904387311291076])\n",
       " BarnesHut.MassPoint{Float64}(0.15506384785822447,[1.0709054359087573,1.4613835252792848,1.31949436213768])      BarnesHut.MassPoint{Float64}(0.24766454150423733,[0.6000274250916956,1.3441232036520312,0.6901255578030541]) \n",
       " BarnesHut.MassPoint{Float64}(0.15506384785822447,[1.563914018462025,2.1935541237533394,2.0384417508639423])     BarnesHut.MassPoint{Float64}(0.24766454150423733,[1.0091195540368152,2.2152149640344763,1.1312072390187184]) \n",
       " BarnesHut.MassPoint{Float64}(0.15506384785822447,[2.056922598679726,2.925724710895031,2.7573891329497733])      BarnesHut.MassPoint{Float64}(0.24766454150423733,[1.4182116901455024,3.086306713901851,1.5722889250354328])  \n",
       " BarnesHut.MassPoint{Float64}(0.15506384785822447,[2.549931178186636,3.6578952941470253,3.476336511193456])      BarnesHut.MassPoint{Float64}(0.24766454150423733,[1.8273038288914498,3.9573984583936577,2.0133706135735894]) \n",
       " BarnesHut.MassPoint{Float64}(0.15506384785822447,[3.0429397587080502,4.390065874121582,4.195283887962196])   …  BarnesHut.MassPoint{Float64}(0.24766454150423733,[2.2363959700167086,4.828490198815651,2.4544523045752613])  \n",
       " BarnesHut.MassPoint{Float64}(0.15506384785822447,[3.5359483407238566,5.122236452355033,4.914231264012035])      BarnesHut.MassPoint{Float64}(0.24766454150423733,[2.6454881125251304,5.699581936981213,2.8955339965686493])  \n",
       " BarnesHut.MassPoint{Float64}(0.15506384785822447,[4.028956923656531,5.854407029859564,5.633178639481538])       BarnesHut.MassPoint{Float64}(0.24766454150423733,[3.0545802557474975,6.570673673133548,3.3366156902288044])  \n",
       " BarnesHut.MassPoint{Float64}(0.15506384785822447,[4.52196550696872,6.586577606880539,6.352126014452663])        BarnesHut.MassPoint{Float64}(0.24766454150423733,[3.4636723985289803,7.441765407465103,3.7776973848045645])  \n",
       " BarnesHut.MassPoint{Float64}(0.15506384785822447,[5.014974090429137,7.3187481834769255,7.071073388995357])      BarnesHut.MassPoint{Float64}(0.24766454150423733,[3.8727645412841367,8.312857140745592,4.218779079677015])   "
      ]
     },
     "execution_count": 10,
     "metadata": {},
     "output_type": "execute_result"
    }
   ],
   "source": [
    "simulate(ps, vs, T, h)"
   ]
  },
  {
   "cell_type": "code",
   "execution_count": null,
   "metadata": {
    "collapsed": true
   },
   "outputs": [],
   "source": []
  }
 ],
 "metadata": {
  "kernelspec": {
   "display_name": "Julia 0.4.5",
   "language": "julia",
   "name": "julia-0.4"
  },
  "language_info": {
   "file_extension": ".jl",
   "mimetype": "application/julia",
   "name": "julia",
   "version": "0.4.5"
  },
  "widgets": {
   "state": {},
   "version": "1.1.1"
  }
 },
 "nbformat": 4,
 "nbformat_minor": 0
}
