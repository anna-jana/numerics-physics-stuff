{
 "cells": [
  {
   "cell_type": "markdown",
   "metadata": {},
   "source": [
    "# Solving nonlinear equations (finding roots of functions)\n",
    "Find $x$ such that $f(x) = 0$"
   ]
  },
  {
   "cell_type": "code",
   "execution_count": 1,
   "metadata": {
    "collapsed": true
   },
   "outputs": [],
   "source": [
    "import numpy as np\n",
    "import matplotlib.pyplot as plt\n",
    "%matplotlib inline"
   ]
  },
  {
   "cell_type": "code",
   "execution_count": 2,
   "metadata": {
    "collapsed": true
   },
   "outputs": [],
   "source": [
    "tol = 1e-10\n",
    "max_steps = 100"
   ]
  },
  {
   "cell_type": "markdown",
   "metadata": {},
   "source": [
    "## Newtons method\n",
    "From:\n",
    "$$ f(x^*) = 0 = f(x_0) + f'(x_0)(x^* - x_0) + \\mathcal{O}(|x^* - x_0|^2) $$\n",
    "we get:\n",
    "$$ x_{n+1} \\leftarrow x_n - \\frac{f(x_n)}{f'(x_n)}$$"
   ]
  },
  {
   "cell_type": "code",
   "execution_count": 3,
   "metadata": {
    "collapsed": false
   },
   "outputs": [],
   "source": [
    "def newton(f, df, x0, tol=tol, max_steps=max_steps):\n",
    "    x = x0\n",
    "    step = 0\n",
    "    while True:\n",
    "        x_new = x - f(x)/df(x)\n",
    "        if abs(x - x_new) <= tol or step == max_steps:\n",
    "            return x_new, step\n",
    "        x = x_new\n",
    "        step += 1"
   ]
  },
  {
   "cell_type": "code",
   "execution_count": 4,
   "metadata": {
    "collapsed": false
   },
   "outputs": [
    {
     "data": {
      "text/plain": [
       "((1.4142135623730951, 7), 1.4142135623730951)"
      ]
     },
     "execution_count": 4,
     "metadata": {},
     "output_type": "execute_result"
    }
   ],
   "source": [
    "newton(lambda x: x**2 - 2, lambda x: 2*x, 10.0), np.sqrt(2)"
   ]
  },
  {
   "cell_type": "markdown",
   "metadata": {},
   "source": [
    "## Bisection\n",
    "We have two points $a$ and $b$. Now we compute the point between thous $c = \\frac{a + b}{2}$. If $f(c)$ has the same sign as $f(a)$ then we can use $c$ as our new $a$, if $f(c)$ as the same sign as $f(b)$ we can use $c$ as our new $b$."
   ]
  },
  {
   "cell_type": "code",
   "execution_count": 5,
   "metadata": {
    "collapsed": true
   },
   "outputs": [],
   "source": [
    "def shrink_interval(f, a, b, c):\n",
    "    if np.sign(f(c)) == np.sign(f(a)):\n",
    "        return c, b\n",
    "    else:\n",
    "        return a, c"
   ]
  },
  {
   "cell_type": "code",
   "execution_count": 6,
   "metadata": {
    "collapsed": true
   },
   "outputs": [],
   "source": [
    "def bisect(f, a, b, tol=tol, max_steps=max_steps):\n",
    "    step = 0\n",
    "    assert np.sign(f(a)) != np.sign(f(b))\n",
    "    while True:\n",
    "        c = (a + b)/2\n",
    "        if abs(a - b) <= tol or step == max_steps or f(c) == 0.0:\n",
    "            return c, step\n",
    "        a, b = shrink_interval(f, a, b, c)\n",
    "        step += 1"
   ]
  },
  {
   "cell_type": "code",
   "execution_count": 7,
   "metadata": {
    "collapsed": false
   },
   "outputs": [
    {
     "data": {
      "text/plain": [
       "((1.4142135623730954, 54), 1.4142135623730951)"
      ]
     },
     "execution_count": 7,
     "metadata": {},
     "output_type": "execute_result"
    }
   ],
   "source": [
    "bisect(lambda x: x**2 - 2, 0.0, 10.0, tol=1e-15, max_steps=200), np.sqrt(2)"
   ]
  },
  {
   "cell_type": "markdown",
   "metadata": {},
   "source": [
    "## Secant method\n",
    "We have two points $a$ and $b$. Then we can approx. the root between these points by the root of the secant between the points.\n",
    "The secant hits $(a, f(a))$ and $(b, f(b))$. \n",
    "$$m = \\frac{f(a) - f(b)}{a - b}$$\n",
    "$$b = f(a) - m a$$\n",
    "$$ 0 = mx + b \\Rightarrow x = -\\frac{b}{m}$$"
   ]
  },
  {
   "cell_type": "code",
   "execution_count": 8,
   "metadata": {
    "collapsed": true
   },
   "outputs": [],
   "source": [
    "def secant_root(f, a, b):\n",
    "    m = (f(a) - f(b))/(a - b)\n",
    "    d = f(a) - m*a\n",
    "    return -d/m"
   ]
  },
  {
   "cell_type": "code",
   "execution_count": 9,
   "metadata": {
    "collapsed": true
   },
   "outputs": [],
   "source": [
    "def secant(f, x0, x1, tol=tol, max_steps=max_steps):\n",
    "    step = 0\n",
    "    while True:\n",
    "        x2 = secant_root(f, x0, x1)\n",
    "        if abs(x1 - x2) <= tol or step == max_steps:\n",
    "            return x2, step\n",
    "        x0, x1 = x1, x2\n",
    "        step += 1"
   ]
  },
  {
   "cell_type": "code",
   "execution_count": 10,
   "metadata": {
    "collapsed": false
   },
   "outputs": [
    {
     "data": {
      "text/plain": [
       "((1.4142135623730954, 10), 1.4142135623730951)"
      ]
     },
     "execution_count": 10,
     "metadata": {},
     "output_type": "execute_result"
    }
   ],
   "source": [
    "secant(lambda x: x**2 - 2, 0.0, 10.0), np.sqrt(2)"
   ]
  },
  {
   "cell_type": "markdown",
   "metadata": {},
   "source": [
    "## Regula falsi\n",
    "Lets combine secant and bisection!\n",
    "\n",
    "Start with an interval $(a_0,b_0)$ where $sgn(f(a_0)) \\neq sgn(f(b_0))$\n",
    "- Find root of the secant $c$ between $a_0$ and $b_0$\n",
    "- We are done if $f(c) = 0$ or we reached some tolerance.\n",
    "- Choose $a_1 = c$ if $sgn(f(c)) = sgn(f(a))$ otherwise choose $b_1 = c$ if $sgn(f(c)) = sgn(f(b))$"
   ]
  },
  {
   "cell_type": "code",
   "execution_count": 11,
   "metadata": {
    "collapsed": true
   },
   "outputs": [],
   "source": [
    "def regula_falsi(f, a, b, tol=tol, max_steps=max_steps):\n",
    "    assert np.sign(a) != np.sign(b)\n",
    "    step = 0\n",
    "    while True:\n",
    "        c = secant_root(f, a, b)\n",
    "        if min(abs(a - c), abs(b - c)) <= tol or c == 0.0 or step == max_steps:\n",
    "            return c, step\n",
    "        a, b = shrink_interval(f, a, b, c)\n",
    "        step += 1"
   ]
  },
  {
   "cell_type": "code",
   "execution_count": 12,
   "metadata": {
    "collapsed": false
   },
   "outputs": [
    {
     "data": {
      "text/plain": [
       "(1.4142135621010714, 80)"
      ]
     },
     "execution_count": 12,
     "metadata": {},
     "output_type": "execute_result"
    }
   ],
   "source": [
    "regula_falsi(lambda x: x**2 - 2, 0.0, 10.0)"
   ]
  }
 ],
 "metadata": {
  "kernelspec": {
   "display_name": "Python 2",
   "language": "python",
   "name": "python2"
  },
  "language_info": {
   "codemirror_mode": {
    "name": "ipython",
    "version": 2
   },
   "file_extension": ".py",
   "mimetype": "text/x-python",
   "name": "python",
   "nbconvert_exporter": "python",
   "pygments_lexer": "ipython2",
   "version": "2.7.11+"
  },
  "widgets": {
   "state": {},
   "version": "1.1.1"
  }
 },
 "nbformat": 4,
 "nbformat_minor": 0
}
