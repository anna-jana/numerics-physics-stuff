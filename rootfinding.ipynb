{
 "cells": [
  {
   "cell_type": "markdown",
   "metadata": {},
   "source": [
    "# Solving nonlinear equations (finding roots of functions)\n",
    "Find $x$ such that $f(x) = 0$"
   ]
  },
  {
   "cell_type": "code",
   "execution_count": 1,
   "metadata": {
    "collapsed": true
   },
   "outputs": [],
   "source": [
    "import numpy as np\n",
    "import matplotlib.pyplot as plt\n",
    "%matplotlib inline"
   ]
  },
  {
   "cell_type": "code",
   "execution_count": 2,
   "metadata": {
    "collapsed": true
   },
   "outputs": [],
   "source": [
    "tol = 1e-10\n",
    "max_steps = 100"
   ]
  },
  {
   "cell_type": "markdown",
   "metadata": {},
   "source": [
    "## Newtons method\n",
    "From:\n",
    "$$ f(x^*) = 0 = f(x_0) + f'(x_0)(x^* - x_0) + \\mathcal{O}(|x^* - x_0|^2) $$\n",
    "we get:\n",
    "$$ x_{n+1} \\leftarrow x_n - \\frac{f(x_n)}{f'(x_n)}$$"
   ]
  },
  {
   "cell_type": "code",
   "execution_count": 3,
   "metadata": {
    "collapsed": false
   },
   "outputs": [],
   "source": [
    "def newton(f, df, x0, tol=tol, max_steps=max_steps):\n",
    "    x = x0\n",
    "    step = 0\n",
    "    while True:\n",
    "        x_new = x - f(x)/df(x)\n",
    "        if abs(x - x_new) <= tol or step == max_steps:\n",
    "            return x_new, step\n",
    "        x = x_new\n",
    "        step += 1"
   ]
  },
  {
   "cell_type": "code",
   "execution_count": 4,
   "metadata": {
    "collapsed": false
   },
   "outputs": [
    {
     "data": {
      "text/plain": [
       "((1.4142135623730951, 7), 1.4142135623730951)"
      ]
     },
     "execution_count": 4,
     "metadata": {},
     "output_type": "execute_result"
    }
   ],
   "source": [
    "newton(lambda x: x**2 - 2, lambda x: 2*x, 10.0), np.sqrt(2)"
   ]
  },
  {
   "cell_type": "markdown",
   "metadata": {},
   "source": [
    "## Bisection\n",
    "We have two points $a$ and $b$. Now we compute the point between thous $c = \\frac{a + b}{2}$. If $f(c)$ has the same sign as $f(a)$ then we can use $c$ as our new $a$, if $f(c)$ as the same sign as $f(b)$ we can use $c$ as our new $b$."
   ]
  },
  {
   "cell_type": "code",
   "execution_count": 5,
   "metadata": {
    "collapsed": true
   },
   "outputs": [],
   "source": [
    "def shrink_interval(f, a, b, c):\n",
    "    if np.sign(f(c)) == np.sign(f(a)):\n",
    "        return c, b\n",
    "    else:\n",
    "        return a, c"
   ]
  },
  {
   "cell_type": "code",
   "execution_count": 6,
   "metadata": {
    "collapsed": true
   },
   "outputs": [],
   "source": [
    "def bisect(f, a, b, tol=tol, max_steps=max_steps):\n",
    "    step = 0\n",
    "    assert np.sign(f(a)) != np.sign(f(b))\n",
    "    while True:\n",
    "        c = (a + b)/2\n",
    "        if abs(a - b) <= tol or step == max_steps or f(c) == 0.0:\n",
    "            return c, step\n",
    "        a, b = shrink_interval(f, a, b, c)\n",
    "        step += 1"
   ]
  },
  {
   "cell_type": "code",
   "execution_count": 7,
   "metadata": {
    "collapsed": false
   },
   "outputs": [
    {
     "data": {
      "text/plain": [
       "((1.4142135623730954, 54), 1.4142135623730951)"
      ]
     },
     "execution_count": 7,
     "metadata": {},
     "output_type": "execute_result"
    }
   ],
   "source": [
    "bisect(lambda x: x**2 - 2, 0.0, 10.0, tol=1e-15, max_steps=200), np.sqrt(2)"
   ]
  },
  {
   "cell_type": "markdown",
   "metadata": {},
   "source": [
    "## Secant method\n",
    "We have two points $a$ and $b$. Then we can approx. the root between these points by the root of the secant between the points.\n",
    "The secant hits $(a, f(a))$ and $(b, f(b))$. \n",
    "$$m = \\frac{f(a) - f(b)}{a - b}$$\n",
    "$$b = f(a) - m a$$\n",
    "$$ 0 = mx + b \\Rightarrow x = -\\frac{b}{m}$$"
   ]
  },
  {
   "cell_type": "code",
   "execution_count": 8,
   "metadata": {
    "collapsed": true
   },
   "outputs": [],
   "source": [
    "def secant_root(f, a, b):\n",
    "    m = (f(a) - f(b))/(a - b)\n",
    "    d = f(a) - m*a\n",
    "    return -d/m"
   ]
  },
  {
   "cell_type": "code",
   "execution_count": 9,
   "metadata": {
    "collapsed": true
   },
   "outputs": [],
   "source": [
    "def secant(f, x0, x1, tol=tol, max_steps=max_steps):\n",
    "    step = 0\n",
    "    while True:\n",
    "        x2 = secant_root(f, x0, x1)\n",
    "        if abs(x1 - x2) <= tol or step == max_steps:\n",
    "            return x2, step\n",
    "        x0, x1 = x1, x2\n",
    "        step += 1"
   ]
  },
  {
   "cell_type": "code",
   "execution_count": 10,
   "metadata": {
    "collapsed": false
   },
   "outputs": [
    {
     "data": {
      "text/plain": [
       "((1.4142135623730954, 10), 1.4142135623730951)"
      ]
     },
     "execution_count": 10,
     "metadata": {},
     "output_type": "execute_result"
    }
   ],
   "source": [
    "secant(lambda x: x**2 - 2, 0.0, 10.0), np.sqrt(2)"
   ]
  },
  {
   "cell_type": "markdown",
   "metadata": {},
   "source": [
    "## Regula falsi (false position)\n",
    "Lets combine secant and bisection!\n",
    "\n",
    "Start with an interval $(a_0,b_0)$ where $sgn(f(a_0)) \\neq sgn(f(b_0))$\n",
    "- Find root of the secant $c$ between $a_0$ and $b_0$\n",
    "- We are done if $f(c) = 0$ or we reached some tolerance.\n",
    "- Choose $a_1 = c$ if $sgn(f(c)) = sgn(f(a))$ otherwise choose $b_1 = c$ if $sgn(f(c)) = sgn(f(b))$"
   ]
  },
  {
   "cell_type": "code",
   "execution_count": 11,
   "metadata": {
    "collapsed": true
   },
   "outputs": [],
   "source": [
    "def regula_falsi(f, a, b, tol=tol, max_steps=max_steps):\n",
    "    assert np.sign(a) != np.sign(b)\n",
    "    step = 0\n",
    "    while True:\n",
    "        c = secant_root(f, a, b)\n",
    "        if min(abs(a - c), abs(b - c)) <= tol or c == 0.0 or step == max_steps:\n",
    "            return c, step\n",
    "        a, b = shrink_interval(f, a, b, c)\n",
    "        step += 1"
   ]
  },
  {
   "cell_type": "code",
   "execution_count": 12,
   "metadata": {
    "collapsed": false
   },
   "outputs": [
    {
     "data": {
      "text/plain": [
       "(1.4142135621010714, 80)"
      ]
     },
     "execution_count": 12,
     "metadata": {},
     "output_type": "execute_result"
    }
   ],
   "source": [
    "regula_falsi(lambda x: x**2 - 2, 0.0, 10.0)"
   ]
  },
  {
   "cell_type": "markdown",
   "metadata": {},
   "source": [
    "## Fixpoint iteration\n",
    "Instead of solving $f(x) = 0$ for $x$, we turn this equation into $g(x) = x$ and then compute $x_{n + 1} = g(x_n)$ for some sufficently large $n$."
   ]
  },
  {
   "cell_type": "code",
   "execution_count": 13,
   "metadata": {
    "collapsed": true
   },
   "outputs": [],
   "source": [
    "def fixpoint(g, x, tol=tol, max_steps=max_steps, debug=False):\n",
    "    step = 0\n",
    "    while True:\n",
    "        new_x = g(x) \n",
    "        if debug:\n",
    "            print x, new_x\n",
    "        if abs(x - new_x) <= tol or step == max_steps:\n",
    "            return new_x, step\n",
    "        x = new_x\n",
    "        step += 1"
   ]
  },
  {
   "cell_type": "markdown",
   "metadata": {},
   "source": [
    "$$f(x) = x^2 - 2$$\n",
    "$$x^2 - 2 = 0$$\n",
    "$$g(x) = x^2 + x - 2$$\n",
    "$$x = x^2 + x - 2$$"
   ]
  },
  {
   "cell_type": "code",
   "execution_count": 14,
   "metadata": {
    "collapsed": false
   },
   "outputs": [
    {
     "name": "stdout",
     "output_type": "stream",
     "text": [
      "1.4 1.36\n",
      "1.36 1.2096\n",
      "1.2096 0.67273216\n",
      "0.67273216 -0.874699280902\n",
      "-0.874699280902 -2.10960044889\n",
      "-2.10960044889 0.340813605072\n",
      "0.340813605072 -1.54303248153\n",
      "-1.54303248153 -1.16208324248\n",
      "-1.16208324248 -1.81164578002\n",
      "-1.81164578002 -0.529585347749\n",
      "-0.529585347749 -2.2491247072\n"
     ]
    },
    {
     "data": {
      "text/plain": [
       "(-2.2491247071985736, 10)"
      ]
     },
     "execution_count": 14,
     "metadata": {},
     "output_type": "execute_result"
    }
   ],
   "source": [
    "fixpoint(lambda x: x**2 + x - 2., 1.4, max_steps=10, debug=True)"
   ]
  },
  {
   "cell_type": "markdown",
   "metadata": {},
   "source": [
    "$$f(x) = sin(x)$$\n",
    "$$sin(x) = 0$$\n",
    "$$g(x) = sin(x) + x$$\n",
    "$$x = sin(x) + x$$"
   ]
  },
  {
   "cell_type": "code",
   "execution_count": 15,
   "metadata": {
    "collapsed": false
   },
   "outputs": [
    {
     "data": {
      "text/plain": [
       "(3.1415926535897931, 5)"
      ]
     },
     "execution_count": 15,
     "metadata": {},
     "output_type": "execute_result"
    }
   ],
   "source": [
    "fixpoint(lambda x: np.sin(x) + x, 1.0)"
   ]
  },
  {
   "cell_type": "markdown",
   "metadata": {},
   "source": [
    "## lets search for good starting values"
   ]
  },
  {
   "cell_type": "code",
   "execution_count": 16,
   "metadata": {
    "collapsed": true
   },
   "outputs": [],
   "source": [
    "def all_brakets(low, high, scaling):\n",
    "    while True:\n",
    "        yield low, high\n",
    "        yield -high, -low\n",
    "        low, high = high, high + scaling*(high - low)"
   ]
  },
  {
   "cell_type": "code",
   "execution_count": 17,
   "metadata": {
    "collapsed": false
   },
   "outputs": [],
   "source": [
    "def valid_brakets(f, low=0., high=1., scaling=2.):\n",
    "    return ((a, b) for a, b in all_brakets(low, high, scaling) if np.sign(f(a)) != np.sign(f(b)))"
   ]
  },
  {
   "cell_type": "code",
   "execution_count": 18,
   "metadata": {
    "collapsed": true
   },
   "outputs": [],
   "source": [
    "def f(x): return x**2 - 10.0"
   ]
  },
  {
   "cell_type": "code",
   "execution_count": 19,
   "metadata": {
    "collapsed": false
   },
   "outputs": [],
   "source": [
    "valid = valid_brakets(f)"
   ]
  },
  {
   "cell_type": "code",
   "execution_count": 20,
   "metadata": {
    "collapsed": false
   },
   "outputs": [],
   "source": [
    "a, b = next(valid)"
   ]
  },
  {
   "cell_type": "code",
   "execution_count": 21,
   "metadata": {
    "collapsed": false
   },
   "outputs": [
    {
     "data": {
      "text/plain": [
       "((3.162277660187101, 36), 3.1622776601683795)"
      ]
     },
     "execution_count": 21,
     "metadata": {},
     "output_type": "execute_result"
    }
   ],
   "source": [
    "bisect(f, a, b), np.sqrt(10)"
   ]
  }
 ],
 "metadata": {
  "kernelspec": {
   "display_name": "Python 2",
   "language": "python",
   "name": "python2"
  },
  "language_info": {
   "codemirror_mode": {
    "name": "ipython",
    "version": 2
   },
   "file_extension": ".py",
   "mimetype": "text/x-python",
   "name": "python",
   "nbconvert_exporter": "python",
   "pygments_lexer": "ipython2",
   "version": "2.7.12"
  },
  "widgets": {
   "state": {},
   "version": "1.1.1"
  }
 },
 "nbformat": 4,
 "nbformat_minor": 0
}
