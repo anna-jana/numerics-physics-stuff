{
 "cells": [
  {
   "cell_type": "code",
   "execution_count": 1,
   "metadata": {
    "collapsed": true
   },
   "outputs": [],
   "source": [
    "import matplotlib.pyplot as plt\n",
    "import numpy as np\n",
    "from scipy.integrate import odeint\n",
    "%matplotlib inline\n",
    "plt.ion()"
   ]
  },
  {
   "cell_type": "markdown",
   "metadata": {},
   "source": [
    "Makes a function witch returns the rhs of the ode system for the heat equation simulation using the FDM.\n",
    "Takes a wire_length, and the second derivate $\\frac{d^2T}{dx^2}$ on both ends of the wire."
   ]
  },
  {
   "cell_type": "code",
   "execution_count": 73,
   "metadata": {
    "collapsed": false
   },
   "outputs": [],
   "source": [
    "def make_rhs(wire_length, alpha, d2Tdx2_start, d2Tdx2_end):\n",
    "    def rhs(T, t):\n",
    "        h_squared = (wire_length/T.size)**2\n",
    "        d2Tdx2 = np.append(np.append(d2Tdx2_start, (T[:-2] - 2.0*T[1:-1] + T[2:])/h_squared), d2Tdx2_end)\n",
    "        dTdt = alpha*d2Tdx2\n",
    "        return dTdt\n",
    "    return rhs"
   ]
  },
  {
   "cell_type": "markdown",
   "metadata": {},
   "source": [
    "Makes an array of the inital temperature values using a bell function $h \\exp(-s x^2)$."
   ]
  },
  {
   "cell_type": "code",
   "execution_count": 74,
   "metadata": {
    "collapsed": true
   },
   "outputs": [],
   "source": [
    "def make_initial_wire(grid_size, spread, height):\n",
    "    xs = np.linspace(-1., 1., grid_size)\n",
    "    T = height*np.exp(-spread*xs**2)\n",
    "    return T"
   ]
  },
  {
   "cell_type": "markdown",
   "metadata": {},
   "source": [
    "Solves the Heat Equation using the FDM."
   ]
  },
  {
   "cell_type": "code",
   "execution_count": 84,
   "metadata": {
    "collapsed": false
   },
   "outputs": [],
   "source": [
    "def run_simulation(wire_length=1., alpha=0.01, d2Tdx2_start=0., d2Tdx2_end=0., \n",
    "                    grid_size=100, spread=1.0, height=1.0,\n",
    "                   time=10.0, steps=1000):\n",
    "    rhs = make_rhs(wire_length=wire_length, alpha=alpha, d2Tdx2_start=d2Tdx2_start, d2Tdx2_end=d2Tdx2_end)\n",
    "    wire = make_initial_wire(grid_size=grid_size, spread=spread, height=height)\n",
    "    ts = np.linspace(0, time, steps)\n",
    "    return odeint(rhs, wire, ts)"
   ]
  },
  {
   "cell_type": "code",
   "execution_count": null,
   "metadata": {
    "collapsed": true
   },
   "outputs": [],
   "source": [
    "ans = run_simulation()"
   ]
  },
  {
   "cell_type": "code",
   "execution_count": null,
   "metadata": {
    "collapsed": true
   },
   "outputs": [],
   "source": [
    "plt.pcolormesh(ans)\n",
    "plt.xlabel(\"Position\")\n",
    "plt.ylabel(\"Time\")"
   ]
  }
 ],
 "metadata": {
  "kernelspec": {
   "display_name": "Python 2",
   "language": "python",
   "name": "python2"
  },
  "language_info": {
   "codemirror_mode": {
    "name": "ipython",
    "version": 2
   },
   "file_extension": ".py",
   "mimetype": "text/x-python",
   "name": "python",
   "nbconvert_exporter": "python",
   "pygments_lexer": "ipython2",
   "version": "2.7.11+"
  },
  "widgets": {
   "state": {},
   "version": "1.1.1"
  }
 },
 "nbformat": 4,
 "nbformat_minor": 0
}
